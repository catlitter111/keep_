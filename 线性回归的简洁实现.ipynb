{
 "cells": [
  {
   "cell_type": "code",
   "execution_count": 25,
   "metadata": {},
   "outputs": [],
   "source": [
    "import numpy as np\n",
    "import torch\n",
    "from torch.utils import data\n",
    "from d2l import torch as d2l"
   ]
  },
  {
   "cell_type": "code",
   "execution_count": 26,
   "metadata": {},
   "outputs": [],
   "source": [
    "true_w = torch.tensor([2,-3.4])\n",
    "true_b = 4.2\n",
    "features, labels = d2l.synthetic_data(true_w,true_b,1000)"
   ]
  },
  {
   "cell_type": "code",
   "execution_count": 27,
   "metadata": {},
   "outputs": [
    {
     "data": {
      "text/plain": [
       "[tensor([[-1.6902, -1.1680],\n",
       "         [ 0.4552, -0.1166],\n",
       "         [-1.6356,  0.7032],\n",
       "         [ 0.7251, -0.8669],\n",
       "         [-1.3177, -1.5911],\n",
       "         [ 0.3768, -0.1716],\n",
       "         [-0.9531,  0.4484],\n",
       "         [-1.1834, -2.4605],\n",
       "         [-0.4817, -0.4067],\n",
       "         [-0.9218,  0.6714]]),\n",
       " tensor([[ 4.8171],\n",
       "         [ 5.5197],\n",
       "         [-1.4723],\n",
       "         [ 8.6008],\n",
       "         [ 6.9754],\n",
       "         [ 5.5340],\n",
       "         [ 0.7693],\n",
       "         [10.1958],\n",
       "         [ 4.6260],\n",
       "         [ 0.0721]])]"
      ]
     },
     "execution_count": 27,
     "metadata": {},
     "output_type": "execute_result"
    }
   ],
   "source": [
    "def load_array(data_arrays,batch_size,is_train=True):\n",
    "    dataset = data.TensorDataset(*data_arrays)\n",
    "    return data.DataLoader(dataset,batch_size)\n",
    "batch_size = 10\n",
    "data_iter = load_array((features,labels),batch_size)\n",
    "next(iter(data_iter))"
   ]
  },
  {
   "cell_type": "code",
   "execution_count": 28,
   "metadata": {},
   "outputs": [],
   "source": [
    "from torch import nn\n",
    "net = nn.Sequential(nn.Linear(2,1))"
   ]
  },
  {
   "cell_type": "code",
   "execution_count": 29,
   "metadata": {},
   "outputs": [
    {
     "data": {
      "text/plain": [
       "tensor([0.])"
      ]
     },
     "execution_count": 29,
     "metadata": {},
     "output_type": "execute_result"
    }
   ],
   "source": [
    "net[0].weight.data.normal_(0,0.01)\n",
    "net[0].bias.data.fill_(0)"
   ]
  },
  {
   "cell_type": "code",
   "execution_count": 30,
   "metadata": {},
   "outputs": [],
   "source": [
    "loss = nn.MSELoss()"
   ]
  },
  {
   "cell_type": "code",
   "execution_count": 31,
   "metadata": {},
   "outputs": [],
   "source": [
    "trainer = torch.optim.SGD(net.parameters(),lr=0.03)"
   ]
  },
  {
   "cell_type": "code",
   "execution_count": 32,
   "metadata": {},
   "outputs": [
    {
     "name": "stdout",
     "output_type": "stream",
     "text": [
      "epoch1,loss0.000348\n",
      "epoch2,loss0.000102\n",
      "epoch3,loss0.000102\n",
      "epoch4,loss0.000102\n",
      "epoch5,loss0.000102\n",
      "epoch6,loss0.000102\n",
      "epoch7,loss0.000102\n",
      "epoch8,loss0.000102\n",
      "epoch9,loss0.000102\n",
      "epoch10,loss0.000102\n",
      "epoch11,loss0.000102\n",
      "epoch12,loss0.000102\n",
      "epoch13,loss0.000102\n",
      "epoch14,loss0.000102\n",
      "epoch15,loss0.000102\n",
      "epoch16,loss0.000102\n",
      "epoch17,loss0.000102\n",
      "epoch18,loss0.000102\n",
      "epoch19,loss0.000102\n",
      "epoch20,loss0.000102\n",
      "epoch21,loss0.000102\n",
      "epoch22,loss0.000102\n",
      "epoch23,loss0.000102\n",
      "epoch24,loss0.000102\n",
      "epoch25,loss0.000102\n",
      "epoch26,loss0.000102\n",
      "epoch27,loss0.000102\n",
      "epoch28,loss0.000102\n",
      "epoch29,loss0.000102\n",
      "epoch30,loss0.000102\n"
     ]
    }
   ],
   "source": [
    "num_epoch = 30\n",
    "for epoch in range(num_epoch):\n",
    "    for x,y in data_iter:\n",
    "        l = loss(net(x),y)\n",
    "        trainer.zero_grad()\n",
    "        l.backward()\n",
    "        trainer.step()\n",
    "    l = loss(net(features),labels)\n",
    "    print(f'epoch{epoch+1},loss{l:f}')"
   ]
  }
 ],
 "metadata": {
  "kernelspec": {
   "display_name": "learn",
   "language": "python",
   "name": "python3"
  },
  "language_info": {
   "codemirror_mode": {
    "name": "ipython",
    "version": 3
   },
   "file_extension": ".py",
   "mimetype": "text/x-python",
   "name": "python",
   "nbconvert_exporter": "python",
   "pygments_lexer": "ipython3",
   "version": "3.9.21"
  }
 },
 "nbformat": 4,
 "nbformat_minor": 2
}
