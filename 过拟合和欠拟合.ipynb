{
 "cells": [
  {
   "cell_type": "code",
   "execution_count": 1,
   "metadata": {},
   "outputs": [],
   "source": [
    "import math\n",
    "import numpy as np\n",
    "import torch\n",
    "from torch import nn\n",
    "from d2l import torch as d2l"
   ]
  },
  {
   "cell_type": "code",
   "execution_count": 7,
   "metadata": {},
   "outputs": [
    {
     "name": "stdout",
     "output_type": "stream",
     "text": [
      "(200, 1)\n",
      "(200, 20)\n"
     ]
    }
   ],
   "source": [
    "max_degree = 20\n",
    "n_train, n_test = 100,100\n",
    "true_w = np.zeros(max_degree)\n",
    "true_w[0:4] = np.array([5,1.2,-3.4,5.6])\n",
    "\n",
    "features = np.random.normal(size=(n_train + n_test,1))\n",
    "print(features.shape) \n",
    "np.random.shuffle(features)\n",
    "poly_features = np.power(features, np.arange(max_degree).reshape(1,-1)) # 对第所有维的特征取0次方、1次方、2次方...19次方 \n",
    "print(poly_features.shape) \n",
    "for i in range(max_degree):\n",
    "    poly_features[:,i] /= math.gamma(i+1) # i次方的特征除以(i+1)阶乘\n",
    "labels = np.dot(poly_features,true_w) # 根据多项式生成y，即生成真实的labels\n",
    "labels += np.random.normal(scale=0.1,size=labels.shape) # 对真实labels加噪音进去\n"
   ]
  },
  {
   "cell_type": "code",
   "execution_count": 8,
   "metadata": {},
   "outputs": [],
   "source": [
    "true_w,features,poly_features,labels = [\n",
    "    torch.tensor(x,dtype=torch.float32)\n",
    "    for x in [true_w,features,poly_features,labels]\n",
    "]"
   ]
  },
  {
   "cell_type": "code",
   "execution_count": 9,
   "metadata": {},
   "outputs": [],
   "source": [
    "def evaluate_loss(net,data_iter,loss):\n",
    "    metric = d2l.Accumulator(2)\n",
    "    for x,y in data_iter:\n",
    "        out = net(x)\n",
    "        y = y.reshape(out.shape)\n",
    "        l = loss(y,out)\n",
    "        metric.add(l.sum(),l.numel())\n",
    "    return metric[0] / metric[1]"
   ]
  },
  {
   "cell_type": "code",
   "execution_count": 10,
   "metadata": {},
   "outputs": [],
   "source": [
    "def train(train_features, test_features, train_labels, test_labels, num_epochs=400):\n",
    "    loss = nn.MSELoss()\n",
    "    input_shape = train_features.shape[-1]\n",
    "    net = nn.Sequential(nn.Linear(input_shape, 1, bias=False)) # 单层线性回归\n",
    "    batch_size = min(10,train_labels.shape[0])\n",
    "    train_iter = d2l.load_array((train_features,train_labels.reshape(-1,1)),batch_size)\n",
    "    test_iter = d2l.load_array((test_features,test_labels.reshape(-1,1)),batch_size,is_train=False)    \n",
    "    trainer = torch.optim.SGD(net.parameters(),lr=0.01)\n",
    "    animator = d2l.Animator(xlabel='epoch',ylabel='loss',yscale='log',xlim=[1,num_epochs],ylim=[1e-3,1e2],legend=['train','test'])                   \n",
    "    for epoch in range(num_epochs):\n",
    "        d2l.train_epoch_ch3(net, train_iter, loss, trainer)\n",
    "        if epoch == 0 or (epoch + 1) % 20 == 0:\n",
    "            animator.add(epoch + 1, (evaluate_loss(net, train_iter, loss), evaluate_loss(net,test_iter,loss)))\n",
    "    print('weight',net[0].weight.data.numpy()) # 训练完后打印，打印最终学到的weight值  "
   ]
  },
  {
   "cell_type": "code",
   "execution_count": null,
   "metadata": {},
   "outputs": [],
   "source": [
    "train(poly_features[:n_train,:4],poly_features[n_train:,:4],labels[:n_train],labels[n_train:])  # 最后返回的weight值和公式真实weight值很接近       "
   ]
  }
 ],
 "metadata": {
  "kernelspec": {
   "display_name": "learn",
   "language": "python",
   "name": "python3"
  },
  "language_info": {
   "codemirror_mode": {
    "name": "ipython",
    "version": 3
   },
   "file_extension": ".py",
   "mimetype": "text/x-python",
   "name": "python",
   "nbconvert_exporter": "python",
   "pygments_lexer": "ipython3",
   "version": "3.9.21"
  }
 },
 "nbformat": 4,
 "nbformat_minor": 2
}
